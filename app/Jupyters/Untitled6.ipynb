{
 "cells": [
  {
   "cell_type": "code",
   "execution_count": 1,
   "metadata": {
    "collapsed": true
   },
   "outputs": [],
   "source": [
    "nums = []\n",
    "for x in range(10):\n",
    "    nums.append(x)"
   ]
  },
  {
   "cell_type": "code",
   "execution_count": 3,
   "metadata": {},
   "outputs": [
    {
     "name": "stdout",
     "output_type": "stream",
     "text": [
      "0 0\n",
      "1 1\n",
      "2 2\n",
      "3 3\n",
      "4 4\n",
      "5 5\n",
      "6 6\n",
      "7 7\n",
      "8 8\n",
      "9 9\n"
     ]
    }
   ],
   "source": [
    "for i,x in enumerate(nums):\n",
    "    print(i,x)"
   ]
  },
  {
   "cell_type": "code",
   "execution_count": 14,
   "metadata": {
    "collapsed": true
   },
   "outputs": [],
   "source": [
    "def twoSum(nums, target):\n",
    "    for i,x in enumerate(nums):\n",
    "        for j,y in enumerate(nums):\n",
    "            if x+y == target:\n",
    "                if i!=j:\n",
    "                    return([i,j])\n",
    "                else:\n",
    "                    continue"
   ]
  },
  {
   "cell_type": "code",
   "execution_count": 13,
   "metadata": {},
   "outputs": [
    {
     "name": "stdout",
     "output_type": "stream",
     "text": [
      "[1, 2]\n"
     ]
    }
   ],
   "source": [
    "print(twoSum([3,2,4],6))"
   ]
  },
  {
   "cell_type": "code",
   "execution_count": 15,
   "metadata": {
    "collapsed": true
   },
   "outputs": [],
   "source": [
    "import re\n",
    "import sys\n",
    "import json\n",
    "import subprocess\n",
    "import traceback\n",
    "import xml.etree.ElementTree as ET\n",
    "\n",
    "def main(**args):\n",
    "    manifest_file = args['manifest_file']\n",
    "    mode = args['mode']\n",
    "    output_dir = args['output_dir']\n",
    "    log_file_path = args['log_file']\n",
    "    if mode != 'pdf' and mode != 'src':\n",
    "        print('Mode should be \"pdf\" or \"src\"')\n",
    "        \n",
    "def get_file(filename, output_dir):\n",
    "    cmd = ['s3cmd', 'get', '--requestor-pays', \"s3://arxiv/\"]\n",
    "    "
   ]
  },
  {
   "cell_type": "code",
   "execution_count": 21,
   "metadata": {},
   "outputs": [],
   "source": [
    "import requests\n",
    "r = requests.get('http://arxiv.s3.amazonaws.com')\n",
    "\n",
    "class Arxiv(object):\n",
    "    self __init__(self, "
   ]
  },
  {
   "cell_type": "code",
   "execution_count": 22,
   "metadata": {},
   "outputs": [
    {
     "data": {
      "text/plain": [
       "b'<?xml version=\"1.0\" encoding=\"UTF-8\"?>\\n<Error><Code>AccessDenied</Code><Message>Access Denied</Message><RequestId>16B1A226B1464FA8</RequestId><HostId>Mus7PbuKzGxAFK6C4xgGQyJEVFs1qeytVD6dcJ2v1CDh17Ed4xzUawaZO9CPkLuf/WRj6uQFTCA=</HostId></Error>'"
      ]
     },
     "execution_count": 22,
     "metadata": {},
     "output_type": "execute_result"
    }
   ],
   "source": [
    "r.content"
   ]
  }
 ],
 "metadata": {
  "kernelspec": {
   "display_name": "Python 3",
   "language": "python",
   "name": "python3"
  },
  "language_info": {
   "codemirror_mode": {
    "name": "ipython",
    "version": 3
   },
   "file_extension": ".py",
   "mimetype": "text/x-python",
   "name": "python",
   "nbconvert_exporter": "python",
   "pygments_lexer": "ipython3",
   "version": "3.6.3"
  }
 },
 "nbformat": 4,
 "nbformat_minor": 2
}
