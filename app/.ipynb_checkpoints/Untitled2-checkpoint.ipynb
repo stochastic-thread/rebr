{
 "cells": [
  {
   "cell_type": "code",
   "execution_count": 71,
   "metadata": {},
   "outputs": [
    {
     "name": "stdout",
     "output_type": "stream",
     "text": [
      "(\n",
      "{\n",
      "[\n",
      ")\n",
      "}\n",
      "]\n",
      "Printing symbol map after initializing symbol_map contents\n",
      "(   0\n",
      "{   0\n",
      "[   0\n",
      ")   0\n",
      "}   0\n",
      "]   0\n",
      "(\n",
      ")\n",
      ")\n",
      "(\n",
      ")\n",
      "Printing symbol map\n",
      "(   2\n",
      "{   0\n",
      "[   0\n",
      ")   3\n",
      "}   0\n",
      "]   0\n",
      "matched\n"
     ]
    },
    {
     "data": {
      "text/plain": [
       "{'(': 1, ')': 1, '[': 0, ']': 0, '{': 0, '}': 0}"
      ]
     },
     "execution_count": 71,
     "metadata": {},
     "output_type": "execute_result"
    }
   ],
   "source": [
    "import datetime\n",
    "\n",
    "class Parser:\n",
    "    def __init__(self,debugMode=False):\n",
    "        self.create_time = datetime.datetime.now()\n",
    "        self.parse_time = None\n",
    "        self.symbol_map = dict()\n",
    "        self.debugMode = debugMode\n",
    "        \n",
    "    def parse(self, str):\n",
    "        self.symbol_map = dict()\n",
    "        self.parse_time = datetime.datetime.now()\n",
    "        left_symbols=[ \"(\",\"{\",\"[\"]\n",
    "        right_symbols=[\")\",\"}\",\"]\"]\n",
    "        symbols = left_symbols+right_symbols\n",
    "        for symbol in symbols:\n",
    "            if(self.debugMode):\n",
    "                print(symbol)\n",
    "            self.symbol_map[symbol] = 0\n",
    "        if(self.debugMode):\n",
    "            print(\"Printing symbol map after initializing symbol_map contents\")\n",
    "            for k in self.symbol_map:\n",
    "                print(k, \" \", self.symbol_map[k])\n",
    "        \n",
    "        for char in str:\n",
    "            print(char)\n",
    "            prev = self.symbol_map[char]\n",
    "            self.symbol_map[char] = prev + 1\n",
    "        \n",
    "        if(self.debugMode):\n",
    "            print(\"Printing symbol map\")\n",
    "            for k in self.symbol_map:\n",
    "                print(k, \" \", self.symbol_map[k])\n",
    "        \n",
    "        leftcount = 0\n",
    "        rightcount = 0    \n",
    "        for k in self.symbol_map:\n",
    "            if k == '(':\n",
    "                leftcount += 1\n",
    "            if k == ')':\n",
    "                rightcount += 1\n",
    "            \n",
    "        if leftcount == rightcount: \n",
    "            return \"matched\"\n",
    "        return \"unmatched\"\n",
    "    \n",
    "    def symbol_map(self):\n",
    "        return self.symbol_map\n",
    "\n",
    "print(Parser(debugMode=True).parse(\"())()\"))\n",
    "x.symbol_map"
   ]
  },
  {
   "cell_type": "code",
   "execution_count": 65,
   "metadata": {},
   "outputs": [
    {
     "data": {
      "text/plain": [
       "<__main__.Parser at 0x11282a208>"
      ]
     },
     "execution_count": 65,
     "metadata": {},
     "output_type": "execute_result"
    }
   ],
   "source": [
    "x"
   ]
  },
  {
   "cell_type": "code",
   "execution_count": 62,
   "metadata": {},
   "outputs": [
    {
     "data": {
      "text/plain": [
       "'unmatched'"
      ]
     },
     "execution_count": 62,
     "metadata": {},
     "output_type": "execute_result"
    }
   ],
   "source": [
    "x.parse(\"()\")"
   ]
  },
  {
   "cell_type": "code",
   "execution_count": 63,
   "metadata": {},
   "outputs": [
    {
     "data": {
      "text/plain": [
       "0"
      ]
     },
     "execution_count": 63,
     "metadata": {},
     "output_type": "execute_result"
    }
   ],
   "source": [
    "2%2"
   ]
  },
  {
   "cell_type": "code",
   "execution_count": null,
   "metadata": {
    "collapsed": true
   },
   "outputs": [],
   "source": []
  },
  {
   "cell_type": "code",
   "execution_count": null,
   "metadata": {
    "collapsed": true
   },
   "outputs": [],
   "source": []
  }
 ],
 "metadata": {
  "kernelspec": {
   "display_name": "Python 3",
   "language": "python",
   "name": "python3"
  },
  "language_info": {
   "codemirror_mode": {
    "name": "ipython",
    "version": 3
   },
   "file_extension": ".py",
   "mimetype": "text/x-python",
   "name": "python",
   "nbconvert_exporter": "python",
   "pygments_lexer": "ipython3",
   "version": "3.6.3"
  }
 },
 "nbformat": 4,
 "nbformat_minor": 2
}
