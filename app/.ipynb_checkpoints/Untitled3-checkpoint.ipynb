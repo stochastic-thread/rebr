{
 "cells": [
  {
   "cell_type": "code",
   "execution_count": 3,
   "metadata": {},
   "outputs": [
    {
     "ename": "NameError",
     "evalue": "name 'Config' is not defined",
     "output_type": "error",
     "traceback": [
      "\u001b[0;31m---------------------------------------------------------------------------\u001b[0m",
      "\u001b[0;31mNameError\u001b[0m                                 Traceback (most recent call last)",
      "\u001b[0;32m<ipython-input-3-eef19e223366>\u001b[0m in \u001b[0;36m<module>\u001b[0;34m()\u001b[0m\n\u001b[1;32m     12\u001b[0m \u001b[0;31m# -----------------------------------------------------------------------------\u001b[0m\u001b[0;34m\u001b[0m\u001b[0;34m\u001b[0m\u001b[0m\n\u001b[1;32m     13\u001b[0m \u001b[0;34m\u001b[0m\u001b[0m\n\u001b[0;32m---> 14\u001b[0;31m \u001b[0;32mif\u001b[0m \u001b[0;32mnot\u001b[0m \u001b[0mos\u001b[0m\u001b[0;34m.\u001b[0m\u001b[0mpath\u001b[0m\u001b[0;34m.\u001b[0m\u001b[0misfile\u001b[0m\u001b[0;34m(\u001b[0m\u001b[0mConfig\u001b[0m\u001b[0;34m.\u001b[0m\u001b[0mdatabase_path\u001b[0m\u001b[0;34m)\u001b[0m\u001b[0;34m:\u001b[0m\u001b[0;34m\u001b[0m\u001b[0m\n\u001b[0m\u001b[1;32m     15\u001b[0m   \u001b[0mprint\u001b[0m\u001b[0;34m(\u001b[0m\u001b[0;34m\"the database file as.db should exist. You can create an empty database with sqlite3 as.db < schema.sql\"\u001b[0m\u001b[0;34m)\u001b[0m\u001b[0;34m\u001b[0m\u001b[0m\n\u001b[1;32m     16\u001b[0m   \u001b[0msys\u001b[0m\u001b[0;34m.\u001b[0m\u001b[0mexit\u001b[0m\u001b[0;34m(\u001b[0m\u001b[0;34m)\u001b[0m\u001b[0;34m\u001b[0m\u001b[0m\n",
      "\u001b[0;31mNameError\u001b[0m: name 'Config' is not defined"
     ]
    }
   ],
   "source": [
    "import os\n",
    "import sys\n",
    "import pickle\n",
    "# non-standard imports\n",
    "import numpy as np\n",
    "from sklearn import svm\n",
    "from sqlite3 import dbapi2 as sqlite3\n",
    "\n",
    "# num_recommendations = 1000 # papers to recommend per user\n",
    "# # -----------------------------------------------------------------------------\n",
    "# if not os.path.isfile(Config.database_path):\n",
    "#   print(\"the database file as.db should exist. You can create an empty database with sqlite3 as.db < schema.sql\")\n",
    "#   sys.exit()\n",
    "\n",
    "sqldb = sqlite3.connect(Config.database_path)\n",
    "sqldb.row_factory = sqlite3.Row # to return dicts rather than tuples\n",
    "\n",
    "def query_db(query, args=(), one=False):\n",
    "  \"\"\"Queries the database and returns a list of dictionaries.\"\"\"\n",
    "  cur = sqldb.execute(query, args)\n",
    "  rv = cur.fetchall()\n",
    "  return (rv[0] if rv else None) if one else rv\n",
    "\n",
    "# -----------------------------------------------------------------------------\n",
    "\n",
    "# fetch all users\n",
    "users = query_db('''select * from user''')\n",
    "print('number of users: ', len(users))\n",
    "\n",
    "# load the tfidf matrix and meta\n",
    "meta = pickle.load(open(Config.meta_path, 'rb'))\n",
    "out = pickle.load(open(Config.tfidf_path, 'rb'))\n",
    "X = out['X']\n",
    "X = X.todense()\n",
    "\n",
    "xtoi = { strip_version(x):i for x,i in meta['ptoi'].items() }\n",
    "\n",
    "user_sim = {}\n",
    "for ii,u in enumerate(users):\n",
    "  print(\"%d/%d building an SVM for %s\" % (ii, len(users), u['username'].encode('utf-8')))\n",
    "  uid = u['user_id']\n",
    "  lib = query_db('''select * from library where user_id = ?''', [uid])\n",
    "  pids = [x['paper_id'] for x in lib] # raw pids without version\n",
    "  posix = [xtoi[p] for p in pids if p in xtoi]\n",
    "  \n",
    "  if not posix:\n",
    "    continue # empty library for this user maybe?\n",
    "\n",
    "  print(pids)\n",
    "  y = np.zeros(X.shape[0])\n",
    "  for ix in posix: y[ix] = 1\n",
    "\n",
    "  clf = svm.LinearSVC(class_weight='balanced', verbose=False, max_iter=10000, tol=1e-6, C=0.1)\n",
    "  clf.fit(X,y)\n",
    "  s = clf.decision_function(X)\n",
    "\n",
    "  sortix = np.argsort(-s)\n",
    "  sortix = sortix[:min(num_recommendations, len(sortix))] # crop paper recommendations to save space\n",
    "  user_sim[uid] = [strip_version(meta['pids'][ix]) for ix in list(sortix)]\n",
    "\n",
    "print('writing', Config.user_sim_path)\n",
    "safe_pickle_dump(user_sim, Config.user_sim_path)"
   ]
  },
  {
   "cell_type": "code",
   "execution_count": 4,
   "metadata": {},
   "outputs": [
    {
     "name": "stdout",
     "output_type": "stream",
     "text": [
      "Collecting compmake\n",
      "  Using cached https://files.pythonhosted.org/packages/cc/e0/0bb27a6ad15fc43185344bf174a70e8804a1047eec9a88595a7f81ea1ef3/compmake-3.5.28.tar.gz\n",
      "    Complete output from command python setup.py egg_info:\n",
      "    Traceback (most recent call last):\n",
      "      File \"<string>\", line 1, in <module>\n",
      "      File \"/private/var/folders/f5/_46bcpbj6f30wq5cpjbb18ph0000gn/T/pip-install-5mi86lya/compmake/setup.py\", line 19, in <module>\n",
      "        version = get_version(filename='src/compmake/__init__.py')\n",
      "      File \"/private/var/folders/f5/_46bcpbj6f30wq5cpjbb18ph0000gn/T/pip-install-5mi86lya/compmake/setup.py\", line 7, in get_version\n",
      "        with file(filename) as f:\n",
      "    NameError: name 'file' is not defined\n",
      "    \n",
      "    ----------------------------------------\n",
      "\u001b[31mCommand \"python setup.py egg_info\" failed with error code 1 in /private/var/folders/f5/_46bcpbj6f30wq5cpjbb18ph0000gn/T/pip-install-5mi86lya/compmake/\u001b[0m\n"
     ]
    }
   ],
   "source": [
    "!pip install compmake"
   ]
  },
  {
   "cell_type": "code",
   "execution_count": 7,
   "metadata": {},
   "outputs": [
    {
     "name": "stdout",
     "output_type": "stream",
     "text": [
      "Collecting compmake\n",
      "  Using cached https://files.pythonhosted.org/packages/cc/e0/0bb27a6ad15fc43185344bf174a70e8804a1047eec9a88595a7f81ea1ef3/compmake-3.5.28.tar.gz\n",
      "    Complete output from command python setup.py egg_info:\n",
      "    Traceback (most recent call last):\n",
      "      File \"<string>\", line 1, in <module>\n",
      "      File \"/private/var/folders/f5/_46bcpbj6f30wq5cpjbb18ph0000gn/T/pip-install-0p80wjgm/compmake/setup.py\", line 19, in <module>\n",
      "        version = get_version(filename='src/compmake/__init__.py')\n",
      "      File \"/private/var/folders/f5/_46bcpbj6f30wq5cpjbb18ph0000gn/T/pip-install-0p80wjgm/compmake/setup.py\", line 7, in get_version\n",
      "        with file(filename) as f:\n",
      "    NameError: name 'file' is not defined\n",
      "    \n",
      "    ----------------------------------------\n",
      "\u001b[31mCommand \"python setup.py egg_info\" failed with error code 1 in /private/var/folders/f5/_46bcpbj6f30wq5cpjbb18ph0000gn/T/pip-install-0p80wjgm/compmake/\u001b[0m\n"
     ]
    }
   ],
   "source": [
    "!pip install compmake"
   ]
  },
  {
   "cell_type": "code",
   "execution_count": null,
   "metadata": {
    "collapsed": true
   },
   "outputs": [],
   "source": []
  }
 ],
 "metadata": {
  "kernelspec": {
   "display_name": "Python 3",
   "language": "python",
   "name": "python3"
  },
  "language_info": {
   "codemirror_mode": {
    "name": "ipython",
    "version": 3
   },
   "file_extension": ".py",
   "mimetype": "text/x-python",
   "name": "python",
   "nbconvert_exporter": "python",
   "pygments_lexer": "ipython3",
   "version": "3.6.3"
  }
 },
 "nbformat": 4,
 "nbformat_minor": 2
}
