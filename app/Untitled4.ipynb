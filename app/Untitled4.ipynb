{
 "cells": [
  {
   "cell_type": "code",
   "execution_count": 39,
   "metadata": {
    "collapsed": true
   },
   "outputs": [],
   "source": [
    "test1 = [\n",
    "    \"H1 All About Birds\",\n",
    "]\n",
    "\n",
    "test2 = [\n",
    "    \"H1 All About Birds\",\n",
    "    \"H2 Kinds of Birds\",\n",
    "    \"H3 The Finch\",\n",
    "    \"H3 The Swan\",\n",
    "    \"H2 Habitats\",\n",
    "    \"H3 Wetlands\"\n",
    "]\n",
    "\n",
    "doc1 = test1 + test2"
   ]
  },
  {
   "cell_type": "code",
   "execution_count": 42,
   "metadata": {},
   "outputs": [
    {
     "name": "stdout",
     "output_type": "stream",
     "text": [
      "All About Birds\n",
      "<ol><li>All About Birds\n",
      "</li></ol>\n"
     ]
    }
   ],
   "source": [
    "import sys\n",
    "class Heading:\n",
    "    def __init__(self, weight, text):\n",
    "        self.weight = weight\n",
    "        self.text = text\n",
    "    def __str__(self):\n",
    "        return \"(\"+ str(self.weight) + \"): \" + str(self.text)\n",
    "\n",
    "class Node:\n",
    "    def __init__(self, heading, children):\n",
    "        self.heading = heading\n",
    "        self.children = children\n",
    "    def __str__(self):\n",
    "        me = \"(\"+ str(self.heading) + \"): \"\n",
    "        if len(self.children) > 0:\n",
    "            for child in self.children:\n",
    "                me = me + \" \" + str(child)\n",
    "        return me\n",
    "\n",
    "def to_outline(headings):\n",
    "    hmap        = dict()\n",
    "    root        = None\n",
    "    current     = None\n",
    "    prev_weight = 0\n",
    "    for h in headings:\n",
    "        hmap[h.text] = h.weight\n",
    "        if root == None:\n",
    "            root = Node(Heading(h.weight, h.text), [])\n",
    "            current = root\n",
    "            prev_weight = h.weight\n",
    "        else:\n",
    "            if h.weight >= prev_weight:\n",
    "                # then at this point we know that the current header is a child of the prev node's\n",
    "                # first make the node that represents the header that we're currently on, and then re-assign \n",
    "                # the prev (parent's node) children to a new list of children that includes the current\n",
    "                current_children = current.children\n",
    "                current_children.append(Node(Heading(h.weight, h.text), []))\n",
    "                current.children = current_children\n",
    "                current = Node(Heading(h.weight, h.text), [])\n",
    "                prev_weight = h.weight\n",
    "    return root\n",
    "\n",
    "def recurse(headings):\n",
    "    hmap = dict()\n",
    "    for h in headings:\n",
    "        hmap[h.text]=h.weight\n",
    "        \n",
    "\n",
    "def parse(record):\n",
    "    \"\"\"Parses a line of input. \n",
    "    This implementation is correct for all predefined test cases.\"\"\"\n",
    "    (hlevel, text) = record.split(\" \", 1)\n",
    "    return Heading(int(hlevel[1:]), text.strip())\n",
    "\n",
    "def to_html(node):\n",
    "    \"\"\"Converts a node to HTML. \n",
    "    This implementation is correct for all predefined test cases.\"\"\"\n",
    "    child_html = \"<ol>\" + \"\\n\".join(\n",
    "    [\"<li>\" + to_html(child) + \"</li>\" for child in node.children]\n",
    "    ) + \"</ol>\" if node.children else \"\"\n",
    "\n",
    "    return (node.heading.text and node.heading.text + \"\\n\") + child_html\n",
    "\n",
    "headings = [parse(line) for line in doc1]\n",
    "outline = to_outline(headings)\n",
    "html = to_html(outline)\n",
    "print(html)\n"
   ]
  },
  {
   "cell_type": "code",
   "execution_count": 16,
   "metadata": {},
   "outputs": [
    {
     "data": {
      "text/plain": [
       "<__main__.Node at 0x107b85b38>"
      ]
     },
     "execution_count": 16,
     "metadata": {},
     "output_type": "execute_result"
    }
   ],
   "source": [
    "def to_outline(headings):\n",
    "    return Node(Heading(0, \"\"), [Node(headings[0], [])])\n",
    "\n",
    "to_outline(doc1)\n"
   ]
  },
  {
   "cell_type": "code",
   "execution_count": 22,
   "metadata": {},
   "outputs": [
    {
     "data": {
      "text/plain": [
       "<list_reverseiterator at 0x107b3bf98>"
      ]
     },
     "execution_count": 22,
     "metadata": {},
     "output_type": "execute_result"
    }
   ],
   "source": [
    "reversed([1,2,3])"
   ]
  },
  {
   "cell_type": "code",
   "execution_count": 48,
   "metadata": {},
   "outputs": [
    {
     "name": "stdout",
     "output_type": "stream",
     "text": [
      "{'3': 0}\n",
      "{'3': 0, '2': 1}\n"
     ]
    },
    {
     "data": {
      "text/plain": [
       "[1, 2]"
      ]
     },
     "execution_count": 48,
     "metadata": {},
     "output_type": "execute_result"
    }
   ],
   "source": [
    "class Solution:\n",
    "    def __init__(self):\n",
    "        self.map = dict()\n",
    "    def twoSum(self, nums, target):\n",
    "        ret = []\n",
    "        for ii,n in enumerate(nums):\n",
    "            if ii == 0:\n",
    "                self.map[str(n)] = ii\n",
    "            else:\n",
    "                print(self.map)\n",
    "                sum_minus_element = target - n\n",
    "                if str(sum_minus_element) in self.map:\n",
    "                    ret = [self.map[str(sum_minus_element)], ii]\n",
    "                else:\n",
    "                    self.map[str(n)] = ii\n",
    "        return(ret)\n",
    "    \n",
    "Solution().twoSum([3,2,4], 6)"
   ]
  },
  {
   "cell_type": "code",
   "execution_count": null,
   "metadata": {
    "collapsed": true
   },
   "outputs": [],
   "source": []
  }
 ],
 "metadata": {
  "kernelspec": {
   "display_name": "Python 3",
   "language": "python",
   "name": "python3"
  },
  "language_info": {
   "codemirror_mode": {
    "name": "ipython",
    "version": 3
   },
   "file_extension": ".py",
   "mimetype": "text/x-python",
   "name": "python",
   "nbconvert_exporter": "python",
   "pygments_lexer": "ipython3",
   "version": "3.6.3"
  }
 },
 "nbformat": 4,
 "nbformat_minor": 2
}
